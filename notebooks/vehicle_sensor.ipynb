{
 "cells": [
  {
   "cell_type": "code",
   "execution_count": 1,
   "metadata": {},
   "outputs": [],
   "source": [
    "import random\n",
    "from beamngpy import BeamNGpy, Scenario, Vehicle, set_up_simple_logging\n",
    "from beamngpy.sensors import Electrics"
   ]
  },
  {
   "cell_type": "code",
   "execution_count": 2,
   "metadata": {},
   "outputs": [
    {
     "name": "stderr",
     "output_type": "stream",
     "text": [
      "2025-03-12 10:27:45,577 |INFO     |beamngpy                      |Started BeamNGpy logging.\n",
      "2025-03-12 10:27:47,836 |INFO     |beamngpy.BeamNGpy             |Successfully connected to BeamNG.tech.\n",
      "2025-03-12 10:27:47,836 |INFO     |beamngpy.BeamNGpy             |BeamNGpy successfully connected to existing BeamNG instance.\n"
     ]
    }
   ],
   "source": [
    "random.seed(1703)\n",
    "set_up_simple_logging()\n",
    "\n",
    "beamng = BeamNGpy('localhost', 64256)\n",
    "bng = beamng.open(launch=False)"
   ]
  },
  {
   "cell_type": "code",
   "execution_count": 3,
   "metadata": {},
   "outputs": [
    {
     "name": "stderr",
     "output_type": "stream",
     "text": [
      "2025-03-12 10:28:03,061 |INFO     |beamngpy.BeamNGpy             |Loaded map.\n",
      "2025-03-12 10:28:03,803 |INFO     |beamngpy.Vehicle              |Vehicle ego_vehicle connected to simulation.\n",
      "2025-03-12 10:28:03,804 |INFO     |beamngpy.BeamNGpy             |Attempting to connect to vehicle ego_vehicle\n",
      "2025-03-12 10:28:04,866 |INFO     |beamngpy.BeamNGpy             |Successfully connected to BeamNG.tech.\n",
      "2025-03-12 10:28:04,867 |INFO     |beamngpy.BeamNGpy             |Successfully connected to vehicle ego_vehicle.\n",
      "2025-03-12 10:28:04,868 |INFO     |beamngpy.Scenario             |Connected to scenario: LiDAR_demo\n",
      "2025-03-12 10:28:04,895 |INFO     |beamngpy.BeamNGpy             |Starting scenario.\n"
     ]
    }
   ],
   "source": [
    "vehicle = Vehicle('ego_vehicle', model='etk800', licence='ego_vehicle')\n",
    "\n",
    "scenario = Scenario('2k_tsukuba', 'LiDAR_demo', description='Spanning the map with a LiDAR sensor')\n",
    "\n",
    "scenario.add_vehicle(vehicle,  \n",
    "  pos=(-96.2, -304.7, 73.7),\n",
    "  rot_quat=(0.0, 0.0, 0.35836795, 0.93358043)\n",
    ")\n",
    "\n",
    "\n",
    "scenario.make(bng)\n",
    "bng.settings.set_deterministic(60)\n",
    "bng.load_scenario(scenario)\n",
    "bng.ui.hide_hud()\n",
    "bng.scenario.start()\n",
    "\n",
    "vehicle.sensors.attach('electrics', Electrics())"
   ]
  },
  {
   "cell_type": "code",
   "execution_count": 4,
   "metadata": {},
   "outputs": [
    {
     "data": {
      "text/plain": [
       "Sensors[ego_vehicle]: {'state': {}, 'electrics': {}}"
      ]
     },
     "execution_count": 4,
     "metadata": {},
     "output_type": "execute_result"
    }
   ],
   "source": [
    "vehicle.sensors"
   ]
  },
  {
   "cell_type": "code",
   "execution_count": 7,
   "metadata": {},
   "outputs": [],
   "source": [
    "vehicle.sensors.poll()\n",
    "\n",
    "state = vehicle.sensors['state']\n",
    "electrics = vehicle.sensors['electrics']"
   ]
  },
  {
   "cell_type": "code",
   "execution_count": 8,
   "metadata": {},
   "outputs": [
    {
     "name": "stdout",
     "output_type": "stream",
     "text": [
      "up [0.04613607004284859, 0.04874889552593231, 0.9977449178695679]\n",
      "vel [-2.0614905224647373e-05, -0.0001421087799826637, 0.00011751169950002804]\n",
      "rotation [0.03104071319103241, -0.012636947445571423, 0.3581392467021942, 0.9330664873123169]\n",
      "front [-97.2782154083252, -306.39306366443634, 74.48404383659363]\n",
      "pos [-96.18212357739776, -304.6810135277101, 73.75807155860124]\n",
      "dir [-0.6675786375999451, -0.7415205836296082, 0.06697771698236465]\n",
      "time 85.00000403728336\n"
     ]
    }
   ],
   "source": [
    "for key, value in state.items():\n",
    "    print(key, value)"
   ]
  },
  {
   "cell_type": "code",
   "execution_count": 9,
   "metadata": {},
   "outputs": [
    {
     "name": "stdout",
     "output_type": "stream",
     "text": [
      "lowhighbeam_signal_L 0.0\n",
      "hasESC 1.0\n",
      "lowhighbeam_signal_R 0.0\n",
      "wheelspeed 0.00010054256256671672\n",
      "horn 0.0\n",
      "isYCBrakeActive 0.0\n",
      "lowpressure 0.0\n",
      "oil 0.0\n",
      "virtualAirspeed -8.564378025304607e-05\n",
      "running True\n",
      "parking 0.0\n",
      "steering -2.4266303252521297e-12\n",
      "gear N\n",
      "turboBoost -3.4999999999998437\n",
      "boostMax 26.509999999998815\n",
      "turboRpmRatio 0.0\n",
      "smoothShiftLogicAV -0.00012785634873209363\n",
      "esc 0.0\n",
      "hoodLatchCoupler_notAttached 0.0\n",
      "throttle 0.0\n",
      "brake_input 0.0\n",
      "turboRPM 0.0\n",
      "brakelight_signal_L 1.0\n",
      "ignition True\n",
      "freezeState False\n",
      "hasABS 1.0\n",
      "doorRLCoupler_notAttached 0.0\n",
      "trip 0.03143028754291483\n",
      "wheelThermals {'RR': {'brakeSurfaceTemperature': 26.920556640625023, 'brakeCoreTemperature': 26.920556640625357, 'brakeThermalEfficiency': 0.9322899536767623}, 'RL': {'brakeSurfaceTemperature': 26.920556640625023, 'brakeCoreTemperature': 26.920556640625357, 'brakeThermalEfficiency': 0.9322899536767623}, 'FL': {'brakeSurfaceTemperature': 26.920556640625023, 'brakeCoreTemperature': 26.920556640760005, 'brakeThermalEfficiency': 0.9322899536767623}, 'FR': {'brakeSurfaceTemperature': 26.920556640625023, 'brakeCoreTemperature': 26.920556640760005, 'brakeThermalEfficiency': 0.9322899536767623}}\n",
      "abs 0.0\n",
      "lowhighbeam 0.0\n",
      "gearboxMode arcade\n",
      "nop 0.0\n",
      "highbeam_wigwag_R 0.0\n",
      "turboSpin 0.0\n",
      "clutch 0.0\n",
      "doorFRCoupler_notAttached 0.0\n",
      "brakelight_signal_R 1.0\n",
      "parkingbrakelight 1.0\n",
      "parkingbrake_input 1.0\n",
      "tailgateCoupler_notAttached 0.0\n",
      "isABSBrakeActive 0.0\n",
      "turboBoostMax 26.509999999998815\n",
      "idlerpm 800.0\n",
      "maxGearIndex 8.0\n",
      "minGearIndex -1.0\n",
      "lightbar 0.0\n",
      "engineRunning 1.0\n",
      "lights 0.0\n",
      "maxrpm 5500.0\n",
      "driveshaft 354.3151892395355\n",
      "gearModeIndex 0.17\n",
      "parkingbrake 1.0\n",
      "steering_input 8.568288262961732e-16\n",
      "boost -3.4999999999998437\n",
      "ignitionLevel 2.0\n",
      "lowbeam 0.0\n",
      "doorFLCoupler_notAttached 0.0\n",
      "lowfuel False\n",
      "fuel 0.9996823252608776\n",
      "accYSmooth -0.0022749364241316157\n",
      "lockupClutchRatio 0.0\n",
      "clutch_input 0.0\n",
      "rpm 776.7801205493411\n",
      "dseWarningPulse 0.0\n",
      "tcs 0.0\n",
      "brake 0.3\n",
      "reverse_wigwag_L 0.0\n",
      "hoodCatchCoupler_notAttached 0.0\n",
      "reverse_wigwag_R 0.0\n",
      "doorRRCoupler_notAttached 0.0\n",
      "isTCBrakeActive 0.0\n",
      "altitude 73.75807157252541\n",
      "rpmspin 25.20795359462619\n",
      "hazard 0.0\n",
      "highbeam 0.0\n",
      "accXSmooth -7.833786180915412e-05\n",
      "airspeed 0.0001767340622443573\n",
      "steeringUnassisted 0.0\n",
      "odometer 0.03143028754291483\n",
      "hasTCS 1.0\n",
      "reverse 0.0\n",
      "highbeam_wigwag_L 0.0\n",
      "throttle_input 0.0\n",
      "turnsignal 0.0\n",
      "accZSmooth -9.788381353611822\n",
      "airflowspeed 6.191683867373852e-05\n",
      "abs_active 0.0\n",
      "avg_wheel_av -0.0003086358556174673\n",
      "brake_lights 1.0\n",
      "check_engine False\n",
      "clutch_ratio 1.0\n",
      "engine_load 0.3275011833689435\n",
      "engine_throttle 0.0\n",
      "esc_active False\n",
      "exhaust_flow 0.3288499651333535\n",
      "fog_lights 0.0\n",
      "fuel_volume 49.98411626304388\n",
      "fuel_capacity 50.0\n",
      "gear_a 0.16666666666666666\n",
      "gear_index 0.0\n",
      "gear_m 0.0\n",
      "hazard_signal False\n",
      "is_shifting False\n",
      "headlights 0.0\n",
      "oil_temperature 82.84889263445415\n",
      "radiator_fan_spin 0.0\n",
      "rpm_tacho 776.0646000057136\n",
      "signal_l 0.0\n",
      "left_signal False\n",
      "signal_r 0.0\n",
      "right_signal False\n",
      "tcs_active False\n",
      "two_step True\n",
      "water_temperature 80.58496738373118\n"
     ]
    }
   ],
   "source": [
    "for key, value in electrics.items():\n",
    "    print(key, value)"
   ]
  },
  {
   "cell_type": "code",
   "execution_count": null,
   "metadata": {},
   "outputs": [],
   "source": []
  }
 ],
 "metadata": {
  "kernelspec": {
   "display_name": "venv",
   "language": "python",
   "name": "python3"
  },
  "language_info": {
   "codemirror_mode": {
    "name": "ipython",
    "version": 3
   },
   "file_extension": ".py",
   "mimetype": "text/x-python",
   "name": "python",
   "nbconvert_exporter": "python",
   "pygments_lexer": "ipython3",
   "version": "3.11.0"
  }
 },
 "nbformat": 4,
 "nbformat_minor": 2
}
