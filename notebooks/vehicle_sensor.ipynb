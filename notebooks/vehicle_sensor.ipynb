{
 "cells": [
  {
   "cell_type": "code",
   "execution_count": 2,
   "metadata": {},
   "outputs": [],
   "source": [
    "import random\n",
    "from beamngpy import BeamNGpy, Scenario, Vehicle, set_up_simple_logging\n",
    "from beamngpy.sensors import Electrics"
   ]
  },
  {
   "cell_type": "code",
   "execution_count": 3,
   "metadata": {},
   "outputs": [
    {
     "name": "stderr",
     "output_type": "stream",
     "text": [
      "2025-03-15 10:36:24,767 |INFO     |beamngpy                      |Started BeamNGpy logging.\n",
      "2025-03-15 10:36:25,320 |INFO     |beamngpy.BeamNGpy             |Successfully connected to BeamNG.tech.\n",
      "2025-03-15 10:36:25,321 |INFO     |beamngpy.BeamNGpy             |BeamNGpy successfully connected to existing BeamNG instance.\n"
     ]
    }
   ],
   "source": [
    "random.seed(1703)\n",
    "set_up_simple_logging()\n",
    "\n",
    "beamng = BeamNGpy('localhost', 64256)\n",
    "bng = beamng.open(launch=False)"
   ]
  },
  {
   "cell_type": "code",
   "execution_count": 4,
   "metadata": {},
   "outputs": [
    {
     "name": "stderr",
     "output_type": "stream",
     "text": [
      "2025-03-15 10:36:36,988 |INFO     |beamngpy.BeamNGpy             |Loaded map.\n",
      "2025-03-15 10:36:37,362 |INFO     |beamngpy.Vehicle              |Vehicle ego_vehicle connected to simulation.\n",
      "2025-03-15 10:36:37,363 |INFO     |beamngpy.BeamNGpy             |Attempting to connect to vehicle ego_vehicle\n",
      "2025-03-15 10:36:38,423 |INFO     |beamngpy.BeamNGpy             |Successfully connected to BeamNG.tech.\n",
      "2025-03-15 10:36:38,424 |INFO     |beamngpy.BeamNGpy             |Successfully connected to vehicle ego_vehicle.\n",
      "2025-03-15 10:36:38,426 |INFO     |beamngpy.Scenario             |Connected to scenario: LiDAR_demo\n",
      "2025-03-15 10:36:38,444 |INFO     |beamngpy.BeamNGpy             |Starting scenario.\n"
     ]
    }
   ],
   "source": [
    "vehicle = Vehicle('ego_vehicle', model='etk800', licence='ego_vehicle')\n",
    "\n",
    "scenario = Scenario('2k_tsukuba', 'LiDAR_demo', description='Spanning the map with a LiDAR sensor')\n",
    "\n",
    "scenario.add_vehicle(vehicle,  \n",
    "  pos=(-96.2, -304.7, 73.7),\n",
    "  rot_quat=(0.0, 0.0, 0.35836795, 0.93358043)\n",
    ")\n",
    "\n",
    "\n",
    "scenario.make(bng)\n",
    "bng.settings.set_deterministic(60)\n",
    "bng.load_scenario(scenario)\n",
    "bng.ui.hide_hud()\n",
    "bng.scenario.start()\n",
    "\n",
    "vehicle.sensors.attach('electrics', Electrics())"
   ]
  },
  {
   "cell_type": "code",
   "execution_count": 5,
   "metadata": {},
   "outputs": [
    {
     "data": {
      "text/plain": [
       "Sensors[ego_vehicle]: {'state': {}, 'electrics': {}}"
      ]
     },
     "execution_count": 5,
     "metadata": {},
     "output_type": "execute_result"
    }
   ],
   "source": [
    "vehicle.sensors"
   ]
  },
  {
   "cell_type": "code",
   "execution_count": 6,
   "metadata": {},
   "outputs": [],
   "source": [
    "vehicle.sensors.poll()\n",
    "\n",
    "state = vehicle.sensors['state']\n",
    "electrics = vehicle.sensors['electrics']"
   ]
  },
  {
   "cell_type": "code",
   "execution_count": 7,
   "metadata": {},
   "outputs": [
    {
     "name": "stdout",
     "output_type": "stream",
     "text": [
      "up [0.03577079996466637, 0.03785575181245804, 0.9986428022384644]\n",
      "vel [0.02941546030342579, 0.03378530964255333, 0.023675955832004547]\n",
      "rotation [0.024106185883283615, -0.009764082729816437, 0.35820579528808594, 0.933280348777771]\n",
      "front [-97.29119622707367, -306.4069205522537, 74.42797541618347]\n",
      "pos [-96.18776039720979, -304.6870520077355, 73.73221524682594]\n",
      "dir [-0.6681748628616333, -0.7421854734420776, 0.051990799605846405]\n",
      "time 634.9835301600979\n"
     ]
    }
   ],
   "source": [
    "for key, value in state.items():\n",
    "    print(key, value)"
   ]
  },
  {
   "cell_type": "code",
   "execution_count": 8,
   "metadata": {},
   "outputs": [
    {
     "name": "stdout",
     "output_type": "stream",
     "text": [
      "lowhighbeam_signal_L 0.0\n",
      "hasESC 1.0\n",
      "lowhighbeam_signal_R 0.0\n",
      "wheelspeed 0.0006278882794048734\n",
      "horn 0.0\n",
      "isYCBrakeActive 0.0\n",
      "lowpressure 0.0\n",
      "oil 0.0\n",
      "virtualAirspeed -0.012748358890994922\n",
      "running True\n",
      "parking 0.0\n",
      "steering -2.2741736351226766e-06\n",
      "gear N\n",
      "turboBoost -3.4999999999998437\n",
      "boostMax 26.509999999998815\n",
      "turboRpmRatio 0.0\n",
      "smoothShiftLogicAV 0.019023481958205538\n",
      "esc 0.0\n",
      "hoodLatchCoupler_notAttached 0.0\n",
      "throttle 0.0\n",
      "brake_input 0.0\n",
      "turboRPM 0.0\n",
      "brakelight_signal_L 1.0\n",
      "ignition True\n",
      "freezeState False\n",
      "hasABS 1.0\n",
      "doorRLCoupler_notAttached 0.0\n",
      "trip 0.022546147680475623\n",
      "wheelThermals {'RR': {'brakeSurfaceTemperature': 26.920739746093773, 'brakeCoreTemperature': 26.921086391603687, 'brakeThermalEfficiency': 0.9322901966373996}, 'RL': {'brakeSurfaceTemperature': 26.920739746093773, 'brakeCoreTemperature': 26.921086391603687, 'brakeThermalEfficiency': 0.9322901966373996}, 'FL': {'brakeSurfaceTemperature': 26.920739746093773, 'brakeCoreTemperature': 26.92111751657537, 'brakeThermalEfficiency': 0.9322901966373996}, 'FR': {'brakeSurfaceTemperature': 26.920739746093773, 'brakeCoreTemperature': 26.92111751657537, 'brakeThermalEfficiency': 0.9322901966373996}}\n",
      "abs 0.0\n",
      "lowhighbeam 0.0\n",
      "gearboxMode arcade\n",
      "nop 0.0\n",
      "highbeam_wigwag_R 0.0\n",
      "turboSpin 0.0\n",
      "clutch 0.0\n",
      "doorFRCoupler_notAttached 0.0\n",
      "brakelight_signal_R 1.0\n",
      "parkingbrakelight 1.0\n",
      "parkingbrake_input 1.0\n",
      "tailgateCoupler_notAttached 0.0\n",
      "isABSBrakeActive 0.0\n",
      "turboBoostMax 26.509999999998815\n",
      "idlerpm 800.0\n",
      "maxGearIndex 8.0\n",
      "minGearIndex -1.0\n",
      "lightbar 0.0\n",
      "engineRunning 1.0\n",
      "lights 0.0\n",
      "maxrpm 5500.0\n",
      "driveshaft 355.23315769640476\n",
      "gearModeIndex 0.17\n",
      "parkingbrake 1.0\n",
      "steering_input 1.3456535159776496e-09\n",
      "boost -3.4999999999998437\n",
      "ignitionLevel 2.0\n",
      "lowbeam 0.0\n",
      "doorFLCoupler_notAttached 0.0\n",
      "lowfuel False\n",
      "fuel 0.9999953979721024\n",
      "accYSmooth 0.009178698411117361\n",
      "lockupClutchRatio 0.0\n",
      "clutch_input 0.0\n",
      "rpm 777.4012234095924\n",
      "dseWarningPulse 0.0\n",
      "tcs 0.0\n",
      "brake 0.3\n",
      "reverse_wigwag_L 0.0\n",
      "hoodCatchCoupler_notAttached 0.0\n",
      "reverse_wigwag_R 0.0\n",
      "doorRRCoupler_notAttached 0.0\n",
      "isTCBrakeActive 0.0\n",
      "altitude 73.7297485670032\n",
      "rpmspin 165.0084198249207\n",
      "hazard 0.0\n",
      "highbeam 0.0\n",
      "accXSmooth -0.0032110216208243595\n",
      "airspeed 0.037124574497895246\n",
      "steeringUnassisted 0.0\n",
      "odometer 0.022546147680475623\n",
      "hasTCS 1.0\n",
      "reverse 0.0\n",
      "highbeam_wigwag_L 0.0\n",
      "throttle_input 0.0\n",
      "turnsignal 0.0\n",
      "accZSmooth -9.759924035716859\n",
      "airflowspeed 0.032097754348083936\n",
      "abs_active 0.0\n",
      "avg_wheel_av -0.0035004932433366776\n",
      "brake_lights 1.0\n",
      "check_engine False\n",
      "clutch_ratio 1.0\n",
      "engine_load 0.3160076312584611\n",
      "engine_throttle 0.0\n",
      "esc_active False\n",
      "exhaust_flow 0.3290367761959114\n",
      "fog_lights 0.0\n",
      "fuel_volume 49.999769898605116\n",
      "fuel_capacity 50.0\n",
      "gear_a 0.16666666666666666\n",
      "gear_index 0.0\n",
      "gear_m 0.0\n",
      "hazard_signal False\n",
      "is_shifting False\n",
      "headlights 0.0\n",
      "oil_temperature 80.17798616516563\n",
      "radiator_fan_spin 0.0\n",
      "rpm_tacho 778.2351737961349\n",
      "signal_l 0.0\n",
      "left_signal False\n",
      "signal_r 0.0\n",
      "right_signal False\n",
      "tcs_active False\n",
      "two_step True\n",
      "water_temperature 80.032925718307\n"
     ]
    }
   ],
   "source": [
    "for key, value in electrics.items():\n",
    "    print(key, value)"
   ]
  },
  {
   "cell_type": "code",
   "execution_count": null,
   "metadata": {},
   "outputs": [],
   "source": []
  }
 ],
 "metadata": {
  "kernelspec": {
   "display_name": "venv",
   "language": "python",
   "name": "python3"
  },
  "language_info": {
   "codemirror_mode": {
    "name": "ipython",
    "version": 3
   },
   "file_extension": ".py",
   "mimetype": "text/x-python",
   "name": "python",
   "nbconvert_exporter": "python",
   "pygments_lexer": "ipython3",
   "version": "3.11.0"
  }
 },
 "nbformat": 4,
 "nbformat_minor": 2
}
