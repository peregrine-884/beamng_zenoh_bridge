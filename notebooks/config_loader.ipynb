{
 "cells": [
  {
   "cell_type": "code",
   "execution_count": null,
   "metadata": {},
   "outputs": [
    {
     "name": "stdout",
     "output_type": "stream",
     "text": [
      "current_dir: c:\\Users\\hayas\\Documents\\zenoh_beamng_bridge\\notebooks\n",
      "project_root: c:\\Users\\hayas\\Documents\\zenoh_beamng_bridge\n"
     ]
    }
   ],
   "source": [
    "import sys\n",
    "import os\n",
    "\n",
    "current_dir = os.getcwd()\n",
    "print(\"current_dir:\", current_dir)\n",
    "\n",
    "project_root = os.path.abspath(os.path.join(current_dir, '..'))\n",
    "print(\"project_root:\", project_root)\n",
    "\n",
    "sys.path.append(project_root)\n",
    "from core.utils.config_loader import load_config_from_json5, print_formatted_data\n"
   ]
  },
  {
   "cell_type": "code",
   "execution_count": 40,
   "metadata": {},
   "outputs": [
    {
     "name": "stdout",
     "output_type": "stream",
     "text": [
      "json5_path: c:\\Users\\hayas\\Documents\\zenoh_beamng_bridge\\config\\default.json5\n"
     ]
    }
   ],
   "source": [
    "json5_path = os.path.join(project_root, 'config', 'default.json5')\n",
    "\n",
    "print(\"json5_path:\", json5_path)\n",
    "\n",
    "data = load_config_from_json5(json5_path)"
   ]
  },
  {
   "cell_type": "code",
   "execution_count": 41,
   "metadata": {},
   "outputs": [
    {
     "name": "stdout",
     "output_type": "stream",
     "text": [
      "=== SCENARIO ===\n",
      "  level: c1\n",
      "  name: Reinforcement Learning\n",
      "\n",
      "\n",
      "=== EGO_VEHICLE ===\n",
      "  name: ego_vehicle\n",
      "  model: etk800\n",
      "  color: Blue\n",
      "  pos: [3794.3, 8799.8, 869.8]\n",
      "  rot_quat: [0.0, 0.0, 0.9612617, 0.27563736]\n",
      "\n",
      "\n",
      "=== NPC_VEHICLES ===\n",
      "  (empty)\n",
      "\n",
      "\n",
      "=== LIDARS ===\n",
      "- center_lidar\n",
      "  name: center_lidar\n",
      "  requested_update_time: 0.01\n",
      "  pos: [0, 0.65, 2.0]\n",
      "  dir: [0, -1, 0]\n",
      "  up: [0, 0, 1]\n",
      "  vertical_resolution: 32\n",
      "  horizontal_angle: 360\n",
      "  is_rotate_mode: False\n",
      "  is_360_mode: True\n",
      "  is_using_shared_memory: True\n",
      "  is_visualised: False\n",
      "  is_streaming: True\n",
      "  is_dir_world_space: False\n",
      "--------------------------------------------------\n",
      "- back_lidar\n",
      "  name: back_lidar\n",
      "  requested_update_time: 0.01\n",
      "  pos: [0, 0.65, 2.0]\n",
      "  dir: [0, -1, 0]\n",
      "  up: [0, 0, 1]\n",
      "  vertical_resolution: 32\n",
      "  horizontal_angle: 360\n",
      "  is_rotate_mode: False\n",
      "  is_360_mode: True\n",
      "  is_using_shared_memory: True\n",
      "  is_visualised: False\n",
      "  is_streaming: True\n",
      "  is_dir_world_space: False\n",
      "--------------------------------------------------\n",
      "\n",
      "\n",
      "=== CAMERAS ===\n",
      "- center_camera\n",
      "  name: center_camera\n",
      "  requested_update_time: 0.01\n",
      "  pos: [0, 0, 3]\n",
      "  dir: [0, -1, 0]\n",
      "  up: [0, 0, 1]\n",
      "  resolution: [640, 480]\n",
      "  near_far_planes: [0.05, 300]\n",
      "  is_using_shared_memory: True\n",
      "  is_render_annotations: False\n",
      "  is_render_instance: False\n",
      "  is_render_depth: False\n",
      "  is_visualised: False\n",
      "  is_streaming: True\n",
      "  is_dir_world_space: False\n",
      "--------------------------------------------------\n",
      "- back_camera\n",
      "  name: back_camera\n",
      "  requested_update_time: 0.01\n",
      "  pos: [0, 0, 3]\n",
      "  dir: [0, -1, 0]\n",
      "  up: [0, 0, 1]\n",
      "  resolution: [1280, 720]\n",
      "  near_far_planes: [0.05, 300]\n",
      "  is_using_shared_memory: True\n",
      "  is_render_annotations: False\n",
      "  is_render_instance: False\n",
      "  is_render_depth: False\n",
      "  is_visualised: False\n",
      "  is_streaming: True\n",
      "  is_dir_world_space: False\n",
      "--------------------------------------------------\n",
      "\n",
      "\n"
     ]
    }
   ],
   "source": [
    "print_formatted_data(data)"
   ]
  },
  {
   "cell_type": "code",
   "execution_count": null,
   "metadata": {},
   "outputs": [],
   "source": []
  }
 ],
 "metadata": {
  "kernelspec": {
   "display_name": "venv",
   "language": "python",
   "name": "python3"
  },
  "language_info": {
   "codemirror_mode": {
    "name": "ipython",
    "version": 3
   },
   "file_extension": ".py",
   "mimetype": "text/x-python",
   "name": "python",
   "nbconvert_exporter": "python",
   "pygments_lexer": "ipython3",
   "version": "3.12.2"
  }
 },
 "nbformat": 4,
 "nbformat_minor": 2
}
