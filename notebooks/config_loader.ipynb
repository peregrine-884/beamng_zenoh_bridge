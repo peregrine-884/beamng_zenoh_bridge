{
 "cells": [
  {
   "cell_type": "code",
   "execution_count": 1,
   "metadata": {},
   "outputs": [
    {
     "name": "stdout",
     "output_type": "stream",
     "text": [
      "current_dir: c:\\Users\\hayat\\zenoh_beamng_bridge\\notebooks\n",
      "project_root: c:\\Users\\hayat\\zenoh_beamng_bridge\n"
     ]
    }
   ],
   "source": [
    "import sys\n",
    "import os\n",
    "\n",
    "current_dir = os.getcwd()\n",
    "print(\"current_dir:\", current_dir)\n",
    "\n",
    "project_root = os.path.abspath(os.path.join(current_dir, '..'))\n",
    "print(\"project_root:\", project_root)\n",
    "\n",
    "sys.path.append(project_root)\n",
    "from core.utils.config_loader import split_data_from_config, load_config_from_json5\n"
   ]
  },
  {
   "cell_type": "code",
   "execution_count": 2,
   "metadata": {},
   "outputs": [
    {
     "name": "stdout",
     "output_type": "stream",
     "text": [
      "Loading config from c:\\Users\\hayat\\zenoh_beamng_bridge\\config\\beamng\\base_config.json5\n",
      "Loading config from c:\\Users\\hayat\\zenoh_beamng_bridge\\config\\beamng\\maps\\c1.json5\n",
      "Spawn point file path: c:\\Users\\hayat\\zenoh_beamng_bridge\\config\\beamng\\maps\\c1\\1.json5\n",
      "Loading config from c:\\Users\\hayat\\zenoh_beamng_bridge\\config\\beamng\\maps\\c1\\1.json5\n",
      "Cameras sensor file path: c:\\Users\\hayat\\zenoh_beamng_bridge\\config\\beamng\\sensors\\cameras.json5\n",
      "Loading config from c:\\Users\\hayat\\zenoh_beamng_bridge\\config\\beamng\\sensors\\cameras.json5\n",
      "Imus sensor file path: c:\\Users\\hayat\\zenoh_beamng_bridge\\config\\beamng\\sensors\\imus.json5\n",
      "Loading config from c:\\Users\\hayat\\zenoh_beamng_bridge\\config\\beamng\\sensors\\imus.json5\n",
      "Lidars sensor file path: c:\\Users\\hayat\\zenoh_beamng_bridge\\config\\beamng\\sensors\\lidars.json5\n",
      "Loading config from c:\\Users\\hayat\\zenoh_beamng_bridge\\config\\beamng\\sensors\\lidars.json5\n"
     ]
    }
   ],
   "source": [
    "config_dir = os.path.join(project_root, \"config\", \"beamng\")\n",
    "config_path = \"base_config.json5\"\n",
    "\n",
    "data = load_config_from_json5(config_dir, config_path)\n",
    "\n",
    "level_and_description, ego_and_npc_vehicles, sensors = split_data_from_config(data)\n"
   ]
  },
  {
   "cell_type": "code",
   "execution_count": 3,
   "metadata": {},
   "outputs": [
    {
     "name": "stdout",
     "output_type": "stream",
     "text": [
      "Level and Description:\n",
      "  Level: c1\n",
      "  Description: Shuto Expressway\n"
     ]
    }
   ],
   "source": [
    "print(\"Level and Description:\")\n",
    "for key, value in level_and_description.items():\n",
    "    print(f\"  {key.capitalize()}: {value}\")"
   ]
  },
  {
   "cell_type": "code",
   "execution_count": 4,
   "metadata": {},
   "outputs": [
    {
     "name": "stdout",
     "output_type": "stream",
     "text": [
      "Ego and NPC Vehicles:\n",
      "\n",
      "Ego vehicle:\n",
      "  ego_vehicle:\n",
      "    name: ego_vehicle\n",
      "    model: etk800\n",
      "    color: Blue\n",
      "    pos: [-5955.8, -13987.0, 897.8]\n",
      "    rot_quat: [0.0, 0.0, -0.91706007, 0.39874907]\n",
      "\n",
      "Npc vehicles:\n",
      "  Vehicle 1:\n",
      "    name: traffic_vehicle_1\n",
      "    model: etk800\n",
      "    color: Red\n",
      "    pos: [-6128.96240234375, -13860.3359375, 879.3995971679688]\n",
      "    rot_quat: [0.0, 0.0, 0.0, 1.0]\n"
     ]
    }
   ],
   "source": [
    "print(\"Ego and NPC Vehicles:\")\n",
    "for vehicle_type, vehicles in ego_and_npc_vehicles.items():\n",
    "    print(f\"\\n{vehicle_type.replace('_', ' ').capitalize()}:\")\n",
    "    if isinstance(vehicles, list):\n",
    "        for i, vehicle in enumerate(vehicles, 1):\n",
    "            print(f\"  Vehicle {i}:\")\n",
    "            for key, value in vehicle.items():\n",
    "                print(f\"    {key}: {value}\")\n",
    "    else:\n",
    "        print(f\"  {vehicle_type}:\")\n",
    "        for key, value in vehicles.items():\n",
    "            print(f\"    {key}: {value}\")"
   ]
  },
  {
   "cell_type": "code",
   "execution_count": 5,
   "metadata": {},
   "outputs": [
    {
     "name": "stdout",
     "output_type": "stream",
     "text": [
      "\n",
      "Cameras Sensor:\n",
      "  name: front\n",
      "  requested_update_time: 0.01\n",
      "  pos: [0, 0, 3]\n",
      "  dir: [0, -1, 0]\n",
      "  up: [0, 0, 1]\n",
      "  resolution: [640, 480]\n",
      "  near_far_planes: [0.05, 300]\n",
      "  is_using_shared_memory: True\n",
      "  is_render_annotations: False\n",
      "  is_render_instance: False\n",
      "  is_render_depth: False\n",
      "  is_visualised: False\n",
      "  is_streaming: True\n",
      "  is_dir_world_space: False\n",
      "\n",
      "Imus Sensor:\n",
      "  name: imu\n",
      "  gfx_update_time: 0.005\n",
      "  pos: [0, 0.5, 0.45]\n",
      "  dir: [0, -1, 0]\n",
      "  up: [0, 0, 1]\n",
      "  is_send_immediately: True\n",
      "  is_using_gravity: True\n",
      "  is_visualised: True\n",
      "  is_dir_world_space: False\n",
      "\n",
      "Lidars Sensor:\n",
      "  name: top\n",
      "  requested_update_time: 0.01\n",
      "  pos: [0, 0.65, 2.0]\n",
      "  dir: [0, -1, 0]\n",
      "  up: [0, 0, 1]\n",
      "  vertical_resolution: 32\n",
      "  horizontal_resolution: 360\n",
      "  is_rotate_mode: False\n",
      "  is_using_shared_memory: True\n",
      "  is_visualised: False\n",
      "  is_streaming: True\n",
      "  is_dir_world_space: False\n"
     ]
    }
   ],
   "source": [
    "for sensor_type, sensor_data in sensors.items():\n",
    "    print(f\"\\n{sensor_type.capitalize()} Sensor:\")\n",
    "    for key, value in sensor_data.items():\n",
    "        print(f\"  {key}: {value}\")"
   ]
  },
  {
   "cell_type": "code",
   "execution_count": null,
   "metadata": {},
   "outputs": [],
   "source": []
  }
 ],
 "metadata": {
  "kernelspec": {
   "display_name": "venv",
   "language": "python",
   "name": "python3"
  },
  "language_info": {
   "codemirror_mode": {
    "name": "ipython",
    "version": 3
   },
   "file_extension": ".py",
   "mimetype": "text/x-python",
   "name": "python",
   "nbconvert_exporter": "python",
   "pygments_lexer": "ipython3",
   "version": "3.11.0"
  }
 },
 "nbformat": 4,
 "nbformat_minor": 2
}
