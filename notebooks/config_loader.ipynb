{
 "cells": [
  {
   "cell_type": "code",
   "execution_count": 2,
   "metadata": {},
   "outputs": [
    {
     "name": "stdout",
     "output_type": "stream",
     "text": [
      "current_dir: c:\\Users\\hayat\\zenoh_beamng_bridge\\notebooks\n",
      "project_root: c:\\Users\\hayat\\zenoh_beamng_bridge\n"
     ]
    }
   ],
   "source": [
    "import sys\n",
    "import os\n",
    "\n",
    "current_dir = os.getcwd()\n",
    "print(\"current_dir:\", current_dir)\n",
    "\n",
    "project_root = os.path.abspath(os.path.join(current_dir, '..'))\n",
    "print(\"project_root:\", project_root)\n",
    "\n",
    "sys.path.append(project_root)\n",
    "from beamng.utils.config_loader import split_data, load_config_from_json5\n"
   ]
  },
  {
   "cell_type": "code",
   "execution_count": 3,
   "metadata": {},
   "outputs": [],
   "source": [
    "config_dir = os.path.join(project_root, \"config\", \"beamng\")\n",
    "config_path = \"base_config.json5\"\n",
    "\n",
    "data = load_config_from_json5(config_dir, config_path)\n",
    "\n",
    "level_and_description, ego_vehicle, npc_vehicles, sensors, vehicle_interface = split_data(data)"
   ]
  },
  {
   "cell_type": "code",
   "execution_count": 4,
   "metadata": {},
   "outputs": [
    {
     "data": {
      "text/plain": [
       "{'map': {'level': 'c1',\n",
       "  'description': 'Shuto Expressway',\n",
       "  'spawn_points': {'ego_vehicle': {'name': 'ego_vehicle',\n",
       "    'model': 'etk800',\n",
       "    'color': 'Blue',\n",
       "    'pos': [-5955.8, -13987.0, 897.8],\n",
       "    'rot_quat': [0.0, 0.0, -0.91706007, 0.39874907]},\n",
       "   'npc_vehicles': [{'name': 'traffic_vehicle_1',\n",
       "     'model': 'etk800',\n",
       "     'color': 'Red',\n",
       "     'pos': [-6128.96240234375, -13860.3359375, 879.3995971679688],\n",
       "     'rot_quat': [0.0, 0.0, 0.0, 1.0]}]}},\n",
       " 'sensors': {'cameras': [{'name': 'front',\n",
       "    'requested_update_time': 0.01,\n",
       "    'pos': [0, 0, 3],\n",
       "    'dir': [0, -1, 0],\n",
       "    'up': [0, 0, 1],\n",
       "    'resolution': [640, 480],\n",
       "    'near_far_planes': [0.05, 300],\n",
       "    'is_using_shared_memory': True,\n",
       "    'is_render_annotations': False,\n",
       "    'is_render_instance': False,\n",
       "    'is_render_depth': False,\n",
       "    'is_visualised': False,\n",
       "    'is_streaming': True,\n",
       "    'is_dir_world_space': False,\n",
       "    'topic_name': 'sensing/camera',\n",
       "    'frequency': 50},\n",
       "   {'name': 'front',\n",
       "    'requested_update_time': 0.01,\n",
       "    'pos': [0, 0, 3],\n",
       "    'dir': [0, -1, 0],\n",
       "    'up': [0, 0, 1],\n",
       "    'resolution': [640, 480],\n",
       "    'near_far_planes': [0.05, 300],\n",
       "    'is_using_shared_memory': True,\n",
       "    'is_render_annotations': False,\n",
       "    'is_render_instance': False,\n",
       "    'is_render_depth': False,\n",
       "    'is_visualised': False,\n",
       "    'is_streaming': True,\n",
       "    'is_dir_world_space': False,\n",
       "    'topic_name': 'sensing/camera',\n",
       "    'frequency': 50}],\n",
       "  'clock': [{'topic_name': 'clock', 'frequency': 100}],\n",
       "  'gps': [{'name': 'front',\n",
       "    'pos': [0, -1.5, 1.0],\n",
       "    'ref_lon': 0.0,\n",
       "    'ref_lat': 0.0,\n",
       "    'is_visualised': False,\n",
       "    'topic_name': 'odometry/gps',\n",
       "    'frequency': 20}],\n",
       "  'imus': [{'name': 'imu',\n",
       "    'gfx_update_time': 0.005,\n",
       "    'pos': [0, 0.5, 0.45],\n",
       "    'dir': [0, -1, 0],\n",
       "    'up': [0, 0, 1],\n",
       "    'is_send_immediately': True,\n",
       "    'is_using_gravity': True,\n",
       "    'is_visualised': True,\n",
       "    'is_dir_world_space': False,\n",
       "    'topic_name': 'imu/data',\n",
       "    'frequency': 25}],\n",
       "  'lidars': [{'name': 'top',\n",
       "    'requested_update_time': 0.01,\n",
       "    'pos': [0, 0.65, 2.0],\n",
       "    'dir': [0, -1, 0],\n",
       "    'up': [0, 0, 1],\n",
       "    'vertical_resolution': 32,\n",
       "    'horizontal_resolution': 360,\n",
       "    'is_rotate_mode': False,\n",
       "    'is_using_shared_memory': True,\n",
       "    'is_visualised': False,\n",
       "    'is_streaming': True,\n",
       "    'is_dir_world_space': False,\n",
       "    'topic_name': 'sensing/lidar/concatenated/pointcloud',\n",
       "    'frequency': 10}]},\n",
       " 'vehicle': {'pub': {'actuation_status': {'topic_name': 'vehicle/status/actuation_status',\n",
       "    'frequency': 10},\n",
       "   'battery_charge': {'topic_name': 'vehicle/status/battery_charge',\n",
       "    'frequency': 10},\n",
       "   'control_mode': {'topic_name': 'vehicle/status/control_mode',\n",
       "    'frequency': 10},\n",
       "   'gear_status': {'topic_name': 'vehicle/status/gear_status',\n",
       "    'frequency': 10},\n",
       "   'hazard_lights_status': {'topic_name': 'vehicle/status/hazard_lights_status',\n",
       "    'frequency': 10},\n",
       "   'steering_status': {'topic_name': 'vehicle/status/steering_status',\n",
       "    'frequency': 10},\n",
       "   'turn_indicators_status': {'topic_name': 'vehicle/status/turn_indicators_status',\n",
       "    'frequency': 10},\n",
       "   'velocity_status': {'topic_name': 'vehicle/status/velocity_status',\n",
       "    'frequency': 10}},\n",
       "  'sub': {'actuation_control': 'control/command/control_cmd',\n",
       "   'hazard_lights': 'control/command/hazard_lights_cmd',\n",
       "   'turn_indicators': 'control/command/turn_indicators_cmd'}}}"
      ]
     },
     "execution_count": 4,
     "metadata": {},
     "output_type": "execute_result"
    }
   ],
   "source": [
    "data"
   ]
  },
  {
   "cell_type": "code",
   "execution_count": 5,
   "metadata": {},
   "outputs": [
    {
     "name": "stdout",
     "output_type": "stream",
     "text": [
      "Level and Description:\n",
      "  Level: c1\n",
      "  Description: Shuto Expressway\n"
     ]
    }
   ],
   "source": [
    "print(\"Level and Description:\")\n",
    "for key, value in level_and_description.items():\n",
    "    print(f\"  {key.capitalize()}: {value}\")"
   ]
  },
  {
   "cell_type": "code",
   "execution_count": 6,
   "metadata": {},
   "outputs": [
    {
     "name": "stdout",
     "output_type": "stream",
     "text": [
      "Ego Vehicle:\n",
      "  Name: ego_vehicle\n",
      "  Model: etk800\n",
      "  Color: Blue\n",
      "  Pos: [-5955.8, -13987.0, 897.8]\n",
      "  Rot_quat: [0.0, 0.0, -0.91706007, 0.39874907]\n"
     ]
    }
   ],
   "source": [
    "print(\"Ego Vehicle:\")\n",
    "for key, value in ego_vehicle.items():\n",
    "    print(f\"  {key.capitalize()}: {value}\")"
   ]
  },
  {
   "cell_type": "code",
   "execution_count": 7,
   "metadata": {},
   "outputs": [
    {
     "name": "stdout",
     "output_type": "stream",
     "text": [
      "NPC Vehicles:\n",
      "  Name: traffic_vehicle_1\n",
      "  Model: etk800\n",
      "  Color: Red\n",
      "  Pos: [-6128.96240234375, -13860.3359375, 879.3995971679688]\n",
      "  Rot_quat: [0.0, 0.0, 0.0, 1.0]\n"
     ]
    }
   ],
   "source": [
    "print(\"NPC Vehicles:\")\n",
    "for npc_vehicle in npc_vehicles:\n",
    "    for key, value in npc_vehicle.items():\n",
    "        print(f\"  {key.capitalize()}: {value}\")"
   ]
  },
  {
   "cell_type": "code",
   "execution_count": 8,
   "metadata": {},
   "outputs": [
    {
     "name": "stdout",
     "output_type": "stream",
     "text": [
      "\n",
      "Cameras Sensor:\n",
      "  Name: front\n",
      "  Requested_update_time: 0.01\n",
      "  Pos: [0, 0, 3]\n",
      "  Dir: [0, -1, 0]\n",
      "  Up: [0, 0, 1]\n",
      "  Resolution: [640, 480]\n",
      "  Near_far_planes: [0.05, 300]\n",
      "  Is_using_shared_memory: True\n",
      "  Is_render_annotations: False\n",
      "  Is_render_instance: False\n",
      "  Is_render_depth: False\n",
      "  Is_visualised: False\n",
      "  Is_streaming: True\n",
      "  Is_dir_world_space: False\n",
      "  Topic_name: sensing/camera\n",
      "  Frequency: 50\n",
      "--------------------------------------------\n",
      "  Name: front\n",
      "  Requested_update_time: 0.01\n",
      "  Pos: [0, 0, 3]\n",
      "  Dir: [0, -1, 0]\n",
      "  Up: [0, 0, 1]\n",
      "  Resolution: [640, 480]\n",
      "  Near_far_planes: [0.05, 300]\n",
      "  Is_using_shared_memory: True\n",
      "  Is_render_annotations: False\n",
      "  Is_render_instance: False\n",
      "  Is_render_depth: False\n",
      "  Is_visualised: False\n",
      "  Is_streaming: True\n",
      "  Is_dir_world_space: False\n",
      "  Topic_name: sensing/camera\n",
      "  Frequency: 50\n",
      "--------------------------------------------\n",
      "============================================\n",
      "\n",
      "Clocks Sensor:\n",
      "  Topic_name: clock\n",
      "  Frequency: 100\n",
      "--------------------------------------------\n",
      "============================================\n",
      "\n",
      "Gps Sensor:\n",
      "  Name: front\n",
      "  Pos: [0, -1.5, 1.0]\n",
      "  Ref_lon: 0.0\n",
      "  Ref_lat: 0.0\n",
      "  Is_visualised: False\n",
      "  Topic_name: odometry/gps\n",
      "  Frequency: 20\n",
      "--------------------------------------------\n",
      "============================================\n",
      "\n",
      "Imus Sensor:\n",
      "  Name: imu\n",
      "  Gfx_update_time: 0.005\n",
      "  Pos: [0, 0.5, 0.45]\n",
      "  Dir: [0, -1, 0]\n",
      "  Up: [0, 0, 1]\n",
      "  Is_send_immediately: True\n",
      "  Is_using_gravity: True\n",
      "  Is_visualised: True\n",
      "  Is_dir_world_space: False\n",
      "  Topic_name: imu/data\n",
      "  Frequency: 25\n",
      "--------------------------------------------\n",
      "============================================\n",
      "\n",
      "Lidars Sensor:\n",
      "  Name: top\n",
      "  Requested_update_time: 0.01\n",
      "  Pos: [0, 0.65, 2.0]\n",
      "  Dir: [0, -1, 0]\n",
      "  Up: [0, 0, 1]\n",
      "  Vertical_resolution: 32\n",
      "  Horizontal_resolution: 360\n",
      "  Is_rotate_mode: False\n",
      "  Is_using_shared_memory: True\n",
      "  Is_visualised: False\n",
      "  Is_streaming: True\n",
      "  Is_dir_world_space: False\n",
      "  Topic_name: sensing/lidar/concatenated/pointcloud\n",
      "  Frequency: 10\n",
      "--------------------------------------------\n",
      "============================================\n"
     ]
    }
   ],
   "source": [
    "for sensor_type, sensor_data in sensors.items():\n",
    "    print(f\"\\n{sensor_type.capitalize()} Sensor:\")\n",
    "    for sensor in sensor_data:\n",
    "        for key, value in sensor.items():\n",
    "            print(f\"  {key.capitalize()}: {value}\")\n",
    "        print(\"--------------------------------------------\")\n",
    "    \n",
    "    print(\"============================================\")"
   ]
  },
  {
   "cell_type": "code",
   "execution_count": 9,
   "metadata": {},
   "outputs": [
    {
     "name": "stdout",
     "output_type": "stream",
     "text": [
      "\n",
      "Pub:\n",
      "  Actuation_status:\n",
      "    Topic_name: vehicle/status/actuation_status\n",
      "    Frequency: 10\n",
      "  Battery_charge:\n",
      "    Topic_name: vehicle/status/battery_charge\n",
      "    Frequency: 10\n",
      "  Control_mode:\n",
      "    Topic_name: vehicle/status/control_mode\n",
      "    Frequency: 10\n",
      "  Gear_status:\n",
      "    Topic_name: vehicle/status/gear_status\n",
      "    Frequency: 10\n",
      "  Hazard_lights_status:\n",
      "    Topic_name: vehicle/status/hazard_lights_status\n",
      "    Frequency: 10\n",
      "  Steering_status:\n",
      "    Topic_name: vehicle/status/steering_status\n",
      "    Frequency: 10\n",
      "  Turn_indicators_status:\n",
      "    Topic_name: vehicle/status/turn_indicators_status\n",
      "    Frequency: 10\n",
      "  Velocity_status:\n",
      "    Topic_name: vehicle/status/velocity_status\n",
      "    Frequency: 10\n",
      "\n",
      "Sub:\n",
      "  Actuation_control: control/command/control_cmd\n",
      "  Hazard_lights: control/command/hazard_lights_cmd\n",
      "  Turn_indicators: control/command/turn_indicators_cmd\n"
     ]
    }
   ],
   "source": [
    "for interface_type, topics in vehicle_interface.items():\n",
    "  print(f\"\\n{interface_type.capitalize()}:\")\n",
    "  for topic_name, topic_info in topics.items():\n",
    "    if isinstance(topic_info, dict):\n",
    "      print(f\"  {topic_name.capitalize()}:\")\n",
    "      for key, value in topic_info.items():\n",
    "        print(f\"    {key.capitalize()}: {value}\")\n",
    "    else:\n",
    "      print(f\"  {topic_name.capitalize()}: {topic_info}\")"
   ]
  }
 ],
 "metadata": {
  "kernelspec": {
   "display_name": "venv",
   "language": "python",
   "name": "python3"
  },
  "language_info": {
   "codemirror_mode": {
    "name": "ipython",
    "version": 3
   },
   "file_extension": ".py",
   "mimetype": "text/x-python",
   "name": "python",
   "nbconvert_exporter": "python",
   "pygments_lexer": "ipython3",
   "version": "3.11.0"
  }
 },
 "nbformat": 4,
 "nbformat_minor": 2
}
