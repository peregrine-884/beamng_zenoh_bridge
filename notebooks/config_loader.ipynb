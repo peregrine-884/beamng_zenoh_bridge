{
 "cells": [
  {
   "cell_type": "code",
   "execution_count": null,
   "metadata": {},
   "outputs": [],
   "source": [
    "import sys\n",
    "import os\n",
    "\n",
    "current_dir = os.getcwd()\n",
    "print(\"current_dir:\", current_dir)\n",
    "\n",
    "project_root = os.path.abspath(os.path.join(current_dir, '..'))\n",
    "print(\"project_root:\", project_root)\n",
    "\n",
    "sys.path.append(project_root)\n",
    "from core.utils.config_loader import split_data_from_config, load_config_from_json5\n"
   ]
  },
  {
   "cell_type": "code",
   "execution_count": null,
   "metadata": {},
   "outputs": [],
   "source": [
    "config_dir = os.path.join(project_root, \"config\", \"beamng\")\n",
    "config_path = \"base_config.json5\"\n",
    "\n",
    "data = load_config_from_json5(config_dir, config_path)\n",
    "\n",
    "level_and_description, ego_and_npc_vehicles, sensors = split_data_from_config(data)\n"
   ]
  },
  {
   "cell_type": "code",
   "execution_count": null,
   "metadata": {},
   "outputs": [],
   "source": [
    "print(\"Level and Description:\")\n",
    "for key, value in level_and_description.items():\n",
    "    print(f\"  {key.capitalize()}: {value}\")"
   ]
  },
  {
   "cell_type": "code",
   "execution_count": null,
   "metadata": {},
   "outputs": [],
   "source": [
    "print(\"Ego and NPC Vehicles:\")\n",
    "for vehicle_type, vehicles in ego_and_npc_vehicles.items():\n",
    "    print(f\"\\n{vehicle_type.replace('_', ' ').capitalize()}:\")\n",
    "    if isinstance(vehicles, list):\n",
    "        for i, vehicle in enumerate(vehicles, 1):\n",
    "            print(f\"  Vehicle {i}:\")\n",
    "            for key, value in vehicle.items():\n",
    "                print(f\"    {key}: {value}\")\n",
    "    else:\n",
    "        print(f\"  {vehicle_type}:\")\n",
    "        for key, value in vehicles.items():\n",
    "            print(f\"    {key}: {value}\")"
   ]
  },
  {
   "cell_type": "code",
   "execution_count": null,
   "metadata": {},
   "outputs": [],
   "source": [
    "for sensor_type, sensor_data in sensors.items():\n",
    "    print(f\"\\n{sensor_type.capitalize()} Sensor:\")\n",
    "    for key, value in sensor_data.items():\n",
    "        print(f\"  {key}: {value}\")"
   ]
  }
 ],
 "metadata": {
  "kernelspec": {
   "display_name": "venv",
   "language": "python",
   "name": "python3"
  },
  "language_info": {
   "codemirror_mode": {
    "name": "ipython",
    "version": 3
   },
   "file_extension": ".py",
   "mimetype": "text/x-python",
   "name": "python",
   "nbconvert_exporter": "python",
   "pygments_lexer": "ipython3",
   "version": "3.12.2"
  }
 },
 "nbformat": 4,
 "nbformat_minor": 2
}
