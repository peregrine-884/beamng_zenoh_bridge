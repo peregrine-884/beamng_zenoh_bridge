{
 "cells": [
  {
   "cell_type": "code",
   "execution_count": 1,
   "metadata": {},
   "outputs": [],
   "source": [
    "import zenoh_bridge"
   ]
  },
  {
   "cell_type": "code",
   "execution_count": 2,
   "metadata": {},
   "outputs": [
    {
     "data": {
      "text/plain": [
       "['ActuationStatusPublisher',\n",
       " 'BatteryChargePublisher',\n",
       " 'CameraDataPublisher',\n",
       " 'ClockDataPublisher',\n",
       " 'ControlModePublisher',\n",
       " 'GPSDataPublisher',\n",
       " 'GearStatusPublisher',\n",
       " 'HazardLightsStatusPublisher',\n",
       " 'IMUDataPublisher',\n",
       " 'LidarDataPublisher',\n",
       " 'SteeringStatusPublisher',\n",
       " 'TurnIndicatorsStatusPublisher',\n",
       " 'VelocityStatusPublisher',\n",
       " '__all__',\n",
       " '__doc__',\n",
       " '__file__',\n",
       " '__loader__',\n",
       " '__name__',\n",
       " '__package__',\n",
       " '__spec__']"
      ]
     },
     "execution_count": 2,
     "metadata": {},
     "output_type": "execute_result"
    }
   ],
   "source": [
    "dir(zenoh_bridge)"
   ]
  },
  {
   "cell_type": "code",
   "execution_count": 3,
   "metadata": {},
   "outputs": [],
   "source": [
    "from zenoh_bridge import CameraDataPublisher"
   ]
  },
  {
   "cell_type": "code",
   "execution_count": 5,
   "metadata": {},
   "outputs": [],
   "source": [
    "config_path = \"C:\\\\Users\\\\hayat\\\\zenoh_beamng_bridge\\\\config\\\\zenoh\\\\beamng-conf.json5\"\n",
    "camera = CameraDataPublisher(config_path, \"camera\")"
   ]
  },
  {
   "cell_type": "code",
   "execution_count": null,
   "metadata": {},
   "outputs": [],
   "source": []
  }
 ],
 "metadata": {
  "kernelspec": {
   "display_name": "venv",
   "language": "python",
   "name": "python3"
  },
  "language_info": {
   "codemirror_mode": {
    "name": "ipython",
    "version": 3
   },
   "file_extension": ".py",
   "mimetype": "text/x-python",
   "name": "python",
   "nbconvert_exporter": "python",
   "pygments_lexer": "ipython3",
   "version": "3.11.0"
  }
 },
 "nbformat": 4,
 "nbformat_minor": 2
}
