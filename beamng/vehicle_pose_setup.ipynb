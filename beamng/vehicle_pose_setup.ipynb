{
 "cells": [
  {
   "cell_type": "markdown",
   "metadata": {},
   "source": [
    "## Overview\n",
    "This notebook is a script for adjusting the position and orientation of a vehicle in BeamNG.  \n",
    "\n",
    "- Convert Euler angles to a quaternion  \n",
    "- Retrieve the current position of the vehicle  \n",
    "\n",
    "By using these two values, the vehicle's spawn position can be precisely adjusted."
   ]
  },
  {
   "cell_type": "markdown",
   "metadata": {},
   "source": [
    "## Loading Libraries"
   ]
  },
  {
   "cell_type": "code",
   "execution_count": 1,
   "metadata": {},
   "outputs": [],
   "source": [
    "from scipy.spatial.transform import Rotation as R\n",
    "\n",
    "import random\n",
    "from beamngpy import BeamNGpy, Scenario, Vehicle, set_up_simple_logging"
   ]
  },
  {
   "cell_type": "markdown",
   "metadata": {},
   "source": [
    "## Quaternion Calculation"
   ]
  },
  {
   "cell_type": "code",
   "execution_count": null,
   "metadata": {},
   "outputs": [],
   "source": [
    "yaw = 90\n",
    "pitch = 0\n",
    "roll = 0\n",
    "\n",
    "euler = [yaw, pitch, roll]\n",
    "\n",
    "rotation = R.from_euler('xyz', euler, degrees=True)\n",
    "quaternion = rotation.as_quat()\n",
    "\n",
    "print(f\"({quaternion[0]:.1f}, {quaternion[1]:.1f}, {quaternion[2]:.8f}, {quaternion[3]:.8f})\")"
   ]
  },
  {
   "cell_type": "markdown",
   "metadata": {},
   "source": [
    "## Starting BeamNG"
   ]
  },
  {
   "cell_type": "code",
   "execution_count": 2,
   "metadata": {},
   "outputs": [
    {
     "name": "stderr",
     "output_type": "stream",
     "text": [
      "2025-03-04 11:47:38,016 |INFO     |beamngpy                      |Started BeamNGpy logging.\n",
      "2025-03-04 11:47:38,653 |INFO     |beamngpy.BeamNGpy             |Successfully connected to BeamNG.tech.\n",
      "2025-03-04 11:47:38,656 |INFO     |beamngpy.BeamNGpy             |BeamNGpy successfully connected to existing BeamNG instance.\n"
     ]
    }
   ],
   "source": [
    "random.seed(1703)\n",
    "set_up_simple_logging()\n",
    "\n",
    "beamng = BeamNGpy('localhost', 64256)\n",
    "bng = beamng.open(launch=False)"
   ]
  },
  {
   "cell_type": "markdown",
   "metadata": {},
   "source": [
    "### Print the names of available maps in BeamNG  "
   ]
  },
  {
   "cell_type": "code",
   "execution_count": 6,
   "metadata": {},
   "outputs": [
    {
     "name": "stdout",
     "output_type": "stream",
     "text": [
      "2k_tsukuba\n",
      "2k_tsukuba_s\n",
      "automation_test_track\n",
      "autotest\n",
      "c1\n",
      "Cliff\n",
      "derby\n",
      "driver_training\n",
      "east_coast_usa\n",
      "FAParis\n",
      "garage_v2\n",
      "glow_city\n",
      "gridmap_v2\n",
      "hirochi_raceway\n",
      "Industrial\n",
      "italy\n",
      "johnson_valley\n",
      "jungle_rock_island\n",
      "kanazawa\n",
      "midnightrun\n",
      "polar_expressway\n",
      "Rainbow_Road\n",
      "showroom_v2\n",
      "small_island\n",
      "smallgrid\n",
      "SouthernHighway\n",
      "tech_ground\n",
      "template\n",
      "Utah\n",
      "west_coast_usa\n"
     ]
    }
   ],
   "source": [
    "for level in bng.get_levels().keys():\n",
    "  print(level)"
   ]
  },
  {
   "cell_type": "markdown",
   "metadata": {},
   "source": [
    "## Vehicle Spawn"
   ]
  },
  {
   "cell_type": "code",
   "execution_count": null,
   "metadata": {},
   "outputs": [],
   "source": [
    "vehicle = Vehicle('ego_vehicle', model='etk800', licence='ego_vehicle')\n",
    "\n",
    "scenario = Scenario('2k_tsukuba', 'LiDAR_demo', description='Spanning the map with a LiDAR sensor')\n",
    "\n",
    "# Add the vehicle to the scenario with the specified initial position and orientation  \n",
    "scenario.add_vehicle(vehicle,  \n",
    "  pos=(-96.2, -304.7, 73.7),  # Initial position (x, y, z)  \n",
    "  rot_quat=(0.0, 0.0, 0.35836795, 0.93358043)  # Initial orientation as a quaternion (x, y, z, w)  \n",
    ")\n",
    "\n",
    "\n",
    "scenario.make(bng)\n",
    "bng.settings.set_deterministic(60)\n",
    "bng.load_scenario(scenario)\n",
    "bng.ui.hide_hud()\n",
    "bng.scenario.start()"
   ]
  },
  {
   "cell_type": "markdown",
   "metadata": {},
   "source": [
    "## Get the vehicle's coordinates."
   ]
  },
  {
   "cell_type": "code",
   "execution_count": null,
   "metadata": {},
   "outputs": [],
   "source": [
    "vehicle.sensors.poll()\n",
    "state = vehicle.sensors['state']\n",
    "\n",
    "pos = tuple(round(coord, 2) for coord in state[\"pos\"])\n",
    "print(pos)"
   ]
  }
 ],
 "metadata": {
  "kernelspec": {
   "display_name": "venv",
   "language": "python",
   "name": "python3"
  },
  "language_info": {
   "codemirror_mode": {
    "name": "ipython",
    "version": 3
   },
   "file_extension": ".py",
   "mimetype": "text/x-python",
   "name": "python",
   "nbconvert_exporter": "python",
   "pygments_lexer": "ipython3",
   "version": "3.11.0"
  }
 },
 "nbformat": 4,
 "nbformat_minor": 2
}
